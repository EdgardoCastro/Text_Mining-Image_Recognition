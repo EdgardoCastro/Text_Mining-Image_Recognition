{
 "cells": [
  {
   "cell_type": "markdown",
   "metadata": {},
   "source": [
    "### Laboratorio 3"
   ]
  },
  {
   "cell_type": "markdown",
   "metadata": {},
   "source": [
    "#### Problema 1: \n",
    "\n",
    "1.1 Implemente una regex para validar un correo electrónico en general:"
   ]
  },
  {
   "cell_type": "code",
   "execution_count": 121,
   "metadata": {},
   "outputs": [],
   "source": [
    "import re"
   ]
  },
  {
   "cell_type": "code",
   "execution_count": 122,
   "metadata": {},
   "outputs": [],
   "source": [
    "def validar_correo(correo):\n",
    "    patron = r\"^[a-zA-Z0-9._%+-]+@[a-zA-Z0-9.-]+\\.[a-zA-Z]{2,3}$\"\n",
    "    if re.match(patron, correo):\n",
    "        return \"El correo es válido\"\n",
    "    else:\n",
    "        return \"El correo no es válido\""
   ]
  },
  {
   "cell_type": "code",
   "execution_count": 123,
   "metadata": {},
   "outputs": [
    {
     "name": "stdout",
     "output_type": "stream",
     "text": [
      "El correo es válido\n",
      "El correo no es válido\n"
     ]
    }
   ],
   "source": [
    "print(validar_correo(\"Guate.360-porelmundo@miguate.com\"))\n",
    "print(validar_correo(\"Miercoles3@hotmai@l.coma\"))"
   ]
  },
  {
   "cell_type": "markdown",
   "metadata": {},
   "source": [
    "1.2 implemente una regex para validar la dirección url de una página web con los tipos de domino (.com, .org, .edu). Note que la url incluye el protocolo (http o https) y los símbolos (//www.)"
   ]
  },
  {
   "cell_type": "code",
   "execution_count": 124,
   "metadata": {},
   "outputs": [],
   "source": [
    "def validar_url(url):\n",
    "    patron = r'^(https?://)?(www\\.)?[a-zA-Z0-9.-]+\\.(com|org|edu)$'\n",
    "    if re.match(patron, url):\n",
    "        return \"La URL es válida\"\n",
    "    else:\n",
    "        return \"La URL no es válida\""
   ]
  },
  {
   "cell_type": "code",
   "execution_count": 125,
   "metadata": {},
   "outputs": [
    {
     "name": "stdout",
     "output_type": "stream",
     "text": [
      "La URL es válida\n",
      "La URL no es válida\n"
     ]
    }
   ],
   "source": [
    "print(validar_url(\"https://www.guate360-porelmundo.com\"))\n",
    "print(validar_url(\"http://www.a2.net\")) "
   ]
  },
  {
   "cell_type": "markdown",
   "metadata": {},
   "source": [
    "1.3  Implemente una regex para validar una MAC Address, notar que las mac address están divididas en 6 bloques de caracteres hexadecimales, es decir que los símbolos solo pueden variar del 0 al 9 y las letras de la A a la F."
   ]
  },
  {
   "cell_type": "code",
   "execution_count": 126,
   "metadata": {},
   "outputs": [],
   "source": [
    "def validar_mac(macadress):\n",
    "    patron = r'^([0-9A-Fa-f]{2}[:-]? ?){5}([0-9A-Fa-f]{2})$'\n",
    "    if re.match(patron,macadress):\n",
    "        return \"Mac Adress es válida\"\n",
    "    else:\n",
    "        return \"Mac Adress no es válida\""
   ]
  },
  {
   "cell_type": "code",
   "execution_count": 127,
   "metadata": {},
   "outputs": [
    {
     "name": "stdout",
     "output_type": "stream",
     "text": [
      "Mac Adress es válida\n",
      "Mac Adress no es válida\n"
     ]
    }
   ],
   "source": [
    "print(validar_mac(\"5A 6F AF 8C 9B 1D\"))\n",
    "print(validar_mac(\"3A 7C FA C8 6D 4J\"))"
   ]
  },
  {
   "cell_type": "markdown",
   "metadata": {},
   "source": [
    "1.4 Implemente una regex para validar una dirección IPv4, notar que las direcciones IPv4 están divididas en 4 bloques de valores los cuales solo pueden ir desde 0 hasta 255, una ip donde algunos de sus bloques sea mayor a 255 no es valida, además tome en cuenta que cada bloque está separada por un punto."
   ]
  },
  {
   "cell_type": "code",
   "execution_count": 128,
   "metadata": {},
   "outputs": [],
   "source": [
    "def validar_ipv4(ip):\n",
    "    patron = r'^((25[0-5]|2[0-4][0-9]|[01]?[0-9][0-9]?)\\.){3}(25[0-5]|2[0-4][0-9]|[01]?[0-9][0-9]?)$'\n",
    "    if re.match(patron, ip):\n",
    "        return \"La dirección IPv4 es válida\"\n",
    "    else:\n",
    "        return \"La dirección IPv4 no es válida\""
   ]
  },
  {
   "cell_type": "code",
   "execution_count": 129,
   "metadata": {},
   "outputs": [
    {
     "name": "stdout",
     "output_type": "stream",
     "text": [
      "La dirección IPv4 es válida\n",
      "La dirección IPv4 es válida\n",
      "La dirección IPv4 no es válida\n"
     ]
    }
   ],
   "source": [
    "print(validar_ipv4(\"192.16.8.1\"))\n",
    "print(validar_ipv4(\"234.56.78.90\"))\n",
    "print(validar_ipv4(\"192.168.45.345\"))"
   ]
  },
  {
   "cell_type": "markdown",
   "metadata": {},
   "source": [
    "1.5  Implemente una regex para validar una fecha con la secuencia día-mes-año donde el día, mes y año puedan estar separados ya sea por el carácter / o el carácter - o el carácter ., notar que las fechas son validas si los si los días están definidos desde el 1 al 31, el mes del 1 al 12 y el año de 2000 al 2019. También debe tomar en cuenta que los días y meses pueden estar escritos ya sea con uno o dos caracteres por ejemplo: Enero puede escribirse como 1 o como 01. Los años también pueden expresarse ya sea con dos o con cuatro caracteres."
   ]
  },
  {
   "cell_type": "code",
   "execution_count": 130,
   "metadata": {},
   "outputs": [],
   "source": [
    "def validar_fecha(fecha):\n",
    "    # Verificar el formato de la fecha\n",
    "    patron = r'^(0[1-9]|[12][0-9]|3[01]|[1-9])([\\/\\-.])(0[1-9]|1[0-2]|[1-9])\\2(\\d{2}|\\d{4})$'\n",
    "    if not re.match(patron, fecha):\n",
    "        return \"Fecha no es válida\"\n",
    "    partes = re.split('[\\/\\-.]', fecha)\n",
    "    if len(partes) == 3:\n",
    "        year = int(partes[2])\n",
    "        if 2000 <= year <= 2019 or 0 <= year <= 19:\n",
    "            return \"Fecha es válida\"\n",
    "    \n",
    "    return \"Fecha no es válida\""
   ]
  },
  {
   "cell_type": "code",
   "execution_count": 131,
   "metadata": {},
   "outputs": [
    {
     "name": "stdout",
     "output_type": "stream",
     "text": [
      "Fecha es válida\n",
      "Fecha es válida\n",
      "Fecha es válida\n",
      "Fecha es válida\n",
      "Fecha no es válida\n"
     ]
    }
   ],
   "source": [
    "print(validar_fecha(\"20/1/2019\"))\n",
    "print(validar_fecha(\"12.03.2005\"))\n",
    "print(validar_fecha(\"31-11-08\"))\n",
    "print(validar_fecha(\"1-1-2012\"))\n",
    "print(validar_fecha(\"12-12-22\"))"
   ]
  },
  {
   "cell_type": "markdown",
   "metadata": {},
   "source": [
    "#### Problema 2: \n",
    "\n",
    "En la carpeta encontrará adjuntos 21 documentos que tiene 100 fechas en la secuencia días-mes-año pero con distinto separador y distinto formato de mes, en algunos casos aparece un numero y en otros el nombre del mes en ingles, por ejemplo: Enero pueden aparecer como 1 o como Jan.\n",
    "\n",
    "Utilice Python y expresiones regulares para encontrar el día, mes y año promedio total del los 21 archivos, los resultados deben ser un double."
   ]
  },
  {
   "cell_type": "code",
   "execution_count": 132,
   "metadata": {},
   "outputs": [],
   "source": [
    "import os\n",
    "from datetime import datetime\n",
    "\n",
    "def obtener_fechas(archivo):\n",
    "    with open(archivo, 'r', encoding='latin-1') as f:\n",
    "        contenido = f.read()\n",
    "        fechas = re.findall(r'\\d{1,2}[./-]\\d{1,2}[./-]\\d{2,4}|[A-Za-z]+\\s\\d{1,2},\\s\\d{2,4}', contenido)\n",
    "        return fechas\n",
    "\n",
    "def normalizar_fecha(fecha):\n",
    "    try:\n",
    "        fecha = fecha.replace(',', '')\n",
    "        fecha = fecha.replace('.', '/')\n",
    "        fecha = datetime.strptime(fecha, '%d/%m/%Y')\n",
    "        return fecha\n",
    "    except ValueError:\n",
    "        try:\n",
    "            fecha = datetime.strptime(fecha, '%b %d %Y')\n",
    "            return fecha\n",
    "        except ValueError as e:\n",
    "            print(f\"No se pudo convertir la fecha: {fecha}\")\n",
    "            return None"
   ]
  },
  {
   "cell_type": "code",
   "execution_count": 133,
   "metadata": {},
   "outputs": [],
   "source": [
    "carpeta = r'C:\\Users\\PC2\\Documents\\Maestría BIA\\Año 2\\T3\\Text mining & Image Recognition\\Laboratorio3\\Datos'\n",
    "archivos = [os.path.join(carpeta, archivo) for archivo in os.listdir(carpeta) if os.path.isfile(os.path.join(carpeta, archivo))]"
   ]
  },
  {
   "cell_type": "code",
   "execution_count": 134,
   "metadata": {},
   "outputs": [],
   "source": [
    "fechas_totales = []\n",
    "\n",
    "for archivo in archivos:\n",
    "    fechas = obtener_fechas(archivo)\n",
    "    fechas_totales.extend(fechas)\n",
    "\n",
    "fechas_normalizadas = [fecha for fecha in (normalizar_fecha(fecha) for fecha in fechas_totales) if fecha is not None]\n",
    "\n",
    "# Calcular el promedio de día, mes y año por separado\n",
    "dias = sum(fecha.day for fecha in fechas_normalizadas) / len(fechas_normalizadas)\n",
    "meses = sum(fecha.month for fecha in fechas_normalizadas) / len(fechas_normalizadas)\n",
    "años = sum(fecha.year for fecha in fechas_normalizadas) / len(fechas_normalizadas)"
   ]
  },
  {
   "cell_type": "code",
   "execution_count": 135,
   "metadata": {},
   "outputs": [
    {
     "name": "stdout",
     "output_type": "stream",
     "text": [
      "2016-06-15 00:00:00\n"
     ]
    }
   ],
   "source": [
    "fecha_promedio = datetime(int(años), int(meses), int(dias))\n",
    "\n",
    "print(fecha_promedio)"
   ]
  }
 ],
 "metadata": {
  "kernelspec": {
   "display_name": "base",
   "language": "python",
   "name": "python3"
  },
  "language_info": {
   "codemirror_mode": {
    "name": "ipython",
    "version": 3
   },
   "file_extension": ".py",
   "mimetype": "text/x-python",
   "name": "python",
   "nbconvert_exporter": "python",
   "pygments_lexer": "ipython3",
   "version": "3.9.13"
  },
  "orig_nbformat": 4
 },
 "nbformat": 4,
 "nbformat_minor": 2
}
